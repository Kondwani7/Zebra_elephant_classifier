{
  "nbformat": 4,
  "nbformat_minor": 0,
  "metadata": {
    "colab": {
      "name": "Zebra_Elephant_Classifer.ipynb",
      "provenance": [],
      "collapsed_sections": [],
      "mount_file_id": "1z0a10CCY8fNzn7TQpcb0Gc-17jaVjHK7",
      "authorship_tag": "ABX9TyMxEB8iqkuF9HZRiciLmvG4",
      "include_colab_link": true
    },
    "kernelspec": {
      "display_name": "Python 3",
      "name": "python3"
    }
  },
  "cells": [
    {
      "cell_type": "markdown",
      "metadata": {
        "id": "view-in-github",
        "colab_type": "text"
      },
      "source": [
        "<a href=\"https://colab.research.google.com/github/Kondwani7/Zebra_elephant_classifier/blob/main/Zebra_Elephant_Classifer.ipynb\" target=\"_parent\"><img src=\"https://colab.research.google.com/assets/colab-badge.svg\" alt=\"Open In Colab\"/></a>"
      ]
    },
    {
      "cell_type": "code",
      "metadata": {
        "id": "AdqBM2yiYvn_",
        "colab": {
          "base_uri": "https://localhost:8080/"
        },
        "outputId": "8fedace4-cb9a-4a91-9af6-5facfb57ae85"
      },
      "source": [
        "from google.colab import drive\n",
        "drive.mount('/content/drive', force_remount= True)"
      ],
      "execution_count": 1,
      "outputs": [
        {
          "output_type": "stream",
          "name": "stdout",
          "text": [
            "Mounted at /content/drive\n"
          ]
        }
      ]
    },
    {
      "cell_type": "code",
      "metadata": {
        "id": "SGCwozQiEsk1"
      },
      "source": [
        "import keras\n",
        "import tensorflow as tf\n",
        "#data preparation visualisation and hyper tuning tools\n",
        "%matplotlib inline\n",
        "import matplotlib.pyplot as plt\n",
        "import numpy as np\n",
        "import pandas as pd\n",
        "import os\n",
        "from glob import glob\n",
        "import seaborn as sns\n",
        "from PIL import Image\n",
        "np.random.seed(11) # It's my lucky number\n",
        "from sklearn.preprocessing import StandardScaler \n",
        "from sklearn.model_selection import train_test_split, KFold, cross_val_score, GridSearchCV\n",
        "from sklearn.metrics import accuracy_score\n",
        "import itertools\n",
        "import cv2\n",
        "from tqdm import tqdm"
      ],
      "execution_count": 2,
      "outputs": []
    },
    {
      "cell_type": "code",
      "metadata": {
        "colab": {
          "base_uri": "https://localhost:8080/"
        },
        "id": "60o24fIKXaZY",
        "outputId": "fbad06d2-462e-4e62-d877-330dec47510c"
      },
      "source": [
        "import numpy as np\n",
        "import pandas as pd \n",
        "import tensorflow as tf\n",
        "from tensorflow.keras.preprocessing.image import ImageDataGenerator, load_img\n",
        "from tensorflow.keras.utils import to_categorical\n",
        "from sklearn.model_selection import train_test_split\n",
        "import matplotlib.pyplot as plt\n",
        "import random\n",
        "import os\n",
        "print(os.listdir(\"/content/drive/MyDrive/sampleAnimalDataset\"))\n",
        "\n"
      ],
      "execution_count": 4,
      "outputs": [
        {
          "output_type": "stream",
          "name": "stdout",
          "text": [
            "['sample_train', 'sample_test', 'sample_submission.csv%3Fsp=r&sv=2015-04-05&sr=b&st=2021-02-21T11%3A37%3A20Z&se=2021-02-21T11%3A53%3A20Z&sig=ygxK8o%2F9ZnSiz3DKXWYbPV8o%2F5yJze4alG7H9bu97cs=.csv']\n"
          ]
        }
      ]
    },
    {
      "cell_type": "code",
      "metadata": {
        "id": "D-GcamOsZUgM"
      },
      "source": [
        "train = '/content/drive/MyDrive/Animal Classifier/train'\n",
        "test = '/content/drive/MyDrive/Animal Classifier/test'\n",
        "train_elephants = '/content/drive/MyDrive/Animal Classifier/train/train_elephants'\n",
        "train_zebras = '/content/drive/MyDrive/Animal Classifier/train/train_zebras'\n",
        "\n",
        "test_elephants = '/content/drive/MyDrive/Animal Classifier/test/test_elephants'\n",
        "test_zebras = '/content/drive/MyDrive/Animal Classifier/test/test_zebras'\n",
        "\n"
      ],
      "execution_count": 5,
      "outputs": []
    },
    {
      "cell_type": "code",
      "metadata": {
        "id": "qzNKXJC9Y9sA"
      },
      "source": [
        "filenames = os.listdir(train)\n",
        "categories = []\n",
        "for filename in filenames:\n",
        "    category = filename.split('.')[0]\n",
        "    if category == 'train_elephants':\n",
        "        categories.append(1)\n",
        "    else:\n",
        "        categories.append(0)\n",
        "\n",
        "df = pd.DataFrame({\n",
        "    'filename': filenames,\n",
        "    'category': categories\n",
        "})"
      ],
      "execution_count": 7,
      "outputs": []
    },
    {
      "cell_type": "code",
      "metadata": {
        "colab": {
          "base_uri": "https://localhost:8080/"
        },
        "id": "Y6lDK8IPi6fp",
        "outputId": "b384f284-8f91-4ee5-d640-db9c56c1a37f"
      },
      "source": [
        "df.describe"
      ],
      "execution_count": 8,
      "outputs": [
        {
          "output_type": "execute_result",
          "data": {
            "text/plain": [
              "<bound method NDFrame.describe of     filename  category\n",
              "0  elephants         0\n",
              "1     zebras         0>"
            ]
          },
          "metadata": {},
          "execution_count": 8
        }
      ]
    },
    {
      "cell_type": "code",
      "metadata": {
        "colab": {
          "base_uri": "https://localhost:8080/",
          "height": 112
        },
        "id": "L8ABJLNzY9yM",
        "outputId": "5ebd2d07-2abb-4125-c6b1-9582d56605ac"
      },
      "source": [
        "df.head(100)"
      ],
      "execution_count": 9,
      "outputs": [
        {
          "output_type": "execute_result",
          "data": {
            "text/html": [
              "<div>\n",
              "<style scoped>\n",
              "    .dataframe tbody tr th:only-of-type {\n",
              "        vertical-align: middle;\n",
              "    }\n",
              "\n",
              "    .dataframe tbody tr th {\n",
              "        vertical-align: top;\n",
              "    }\n",
              "\n",
              "    .dataframe thead th {\n",
              "        text-align: right;\n",
              "    }\n",
              "</style>\n",
              "<table border=\"1\" class=\"dataframe\">\n",
              "  <thead>\n",
              "    <tr style=\"text-align: right;\">\n",
              "      <th></th>\n",
              "      <th>filename</th>\n",
              "      <th>category</th>\n",
              "    </tr>\n",
              "  </thead>\n",
              "  <tbody>\n",
              "    <tr>\n",
              "      <th>0</th>\n",
              "      <td>elephants</td>\n",
              "      <td>0</td>\n",
              "    </tr>\n",
              "    <tr>\n",
              "      <th>1</th>\n",
              "      <td>zebras</td>\n",
              "      <td>0</td>\n",
              "    </tr>\n",
              "  </tbody>\n",
              "</table>\n",
              "</div>"
            ],
            "text/plain": [
              "    filename  category\n",
              "0  elephants         0\n",
              "1     zebras         0"
            ]
          },
          "metadata": {},
          "execution_count": 9
        }
      ]
    },
    {
      "cell_type": "code",
      "metadata": {
        "colab": {
          "base_uri": "https://localhost:8080/",
          "height": 111
        },
        "id": "llBeJ5cCY93L",
        "outputId": "cc7b7745-264f-4bcd-b1be-95a23ff84621"
      },
      "source": [
        "df.tail()"
      ],
      "execution_count": null,
      "outputs": [
        {
          "output_type": "execute_result",
          "data": {
            "text/html": [
              "<div>\n",
              "<style scoped>\n",
              "    .dataframe tbody tr th:only-of-type {\n",
              "        vertical-align: middle;\n",
              "    }\n",
              "\n",
              "    .dataframe tbody tr th {\n",
              "        vertical-align: top;\n",
              "    }\n",
              "\n",
              "    .dataframe thead th {\n",
              "        text-align: right;\n",
              "    }\n",
              "</style>\n",
              "<table border=\"1\" class=\"dataframe\">\n",
              "  <thead>\n",
              "    <tr style=\"text-align: right;\">\n",
              "      <th></th>\n",
              "      <th>filename</th>\n",
              "      <th>category</th>\n",
              "    </tr>\n",
              "  </thead>\n",
              "  <tbody>\n",
              "    <tr>\n",
              "      <th>0</th>\n",
              "      <td>train_elephants</td>\n",
              "      <td>1</td>\n",
              "    </tr>\n",
              "    <tr>\n",
              "      <th>1</th>\n",
              "      <td>train_zebras</td>\n",
              "      <td>0</td>\n",
              "    </tr>\n",
              "  </tbody>\n",
              "</table>\n",
              "</div>"
            ],
            "text/plain": [
              "          filename  category\n",
              "0  train_elephants         1\n",
              "1     train_zebras         0"
            ]
          },
          "metadata": {
            "tags": []
          },
          "execution_count": 75
        }
      ]
    },
    {
      "cell_type": "code",
      "metadata": {
        "colab": {
          "base_uri": "https://localhost:8080/",
          "height": 279
        },
        "id": "893KgH6DY97Z",
        "outputId": "b28bfe68-1ab9-4e53-a225-0754333df22a"
      },
      "source": [
        "df['category'].value_counts().plot.bar()"
      ],
      "execution_count": null,
      "outputs": [
        {
          "output_type": "execute_result",
          "data": {
            "text/plain": [
              "<matplotlib.axes._subplots.AxesSubplot at 0x7f3615e29da0>"
            ]
          },
          "metadata": {
            "tags": []
          },
          "execution_count": 76
        },
        {
          "output_type": "display_data",
          "data": {
            "image/png": "[encoded data removed]",
            "text/plain": [
              "<Figure size 432x288 with 1 Axes>"
            ]
          },
          "metadata": {
            "tags": [],
            "needs_background": "light"
          }
        }
      ]
    },
    {
      "cell_type": "code",
      "metadata": {
        "id": "1QeklwPSaY-X"
      },
      "source": [
        "from tensorflow.keras.callbacks import EarlyStopping, ReduceLROnPlateau"
      ],
      "execution_count": 10,
      "outputs": []
    },
    {
      "cell_type": "code",
      "metadata": {
        "id": "2obNDyY1aZCT"
      },
      "source": [
        "learning_rate_reduction = ReduceLROnPlateau(monitor='val_accuracy', \n",
        "                                            patience=2, \n",
        "                                            verbose=1, \n",
        "                                            factor=0.5, \n",
        "                                            min_lr=0.00000001)"
      ],
      "execution_count": 11,
      "outputs": []
    },
    {
      "cell_type": "code",
      "metadata": {
        "id": "S5DZkEL6q3Me"
      },
      "source": [
        "from PIL import Image, ImageFile\n",
        "ImageFile.LOAD_TRUNCATED_IMAGES = True"
      ],
      "execution_count": 12,
      "outputs": []
    },
    {
      "cell_type": "code",
      "metadata": {
        "id": "iq-kQHVHqCUK",
        "colab": {
          "base_uri": "https://localhost:8080/"
        },
        "outputId": "afd823fa-e9e9-47c2-8f22-aa72842c9a83"
      },
      "source": [
        "IMAGE_SIZE = 224 # 224 for MobileNetV2\n",
        "BATCH_SIZE = 64\n",
        "base_dir = '/content/drive/MyDrive/Animal Classifier/train'\n",
        "\n",
        "datagen = tf.keras.preprocessing.image.ImageDataGenerator(\n",
        "    rescale=1./255,\n",
        "    rotation_range=90,\n",
        "    horizontal_flip=True,\n",
        "    vertical_flip=True,\n",
        "    width_shift_range=0.1,\n",
        "    height_shift_range=0.1,\n",
        "    zoom_range=0.05,\n",
        "    validation_split=0.2)\n",
        "\n",
        "train_generator = datagen.flow_from_directory(\n",
        "    base_dir,\n",
        "    target_size=(IMAGE_SIZE, IMAGE_SIZE),\n",
        "    batch_size=BATCH_SIZE, \n",
        "    subset='training')\n",
        "\n",
        "val_generator = datagen.flow_from_directory(\n",
        "    base_dir,\n",
        "    target_size=(IMAGE_SIZE, IMAGE_SIZE),\n",
        "    batch_size=BATCH_SIZE,\n",
        "    subset='validation')"
      ],
      "execution_count": 13,
      "outputs": [
        {
          "output_type": "stream",
          "name": "stdout",
          "text": [
            "Found 3084 images belonging to 2 classes.\n",
            "Found 770 images belonging to 2 classes.\n"
          ]
        }
      ]
    },
    {
      "cell_type": "code",
      "metadata": {
        "colab": {
          "base_uri": "https://localhost:8080/"
        },
        "id": "cBxZRgrPqMdQ",
        "outputId": "f2f0e1b9-6835-4798-96e3-e9405ee97534"
      },
      "source": [
        "# Print data shapes\n",
        "for image_batch, label_batch in train_generator:\n",
        "    break\n",
        "image_batch.shape, label_batch.shape"
      ],
      "execution_count": 14,
      "outputs": [
        {
          "output_type": "execute_result",
          "data": {
            "text/plain": [
              "((64, 224, 224, 3), (64, 2))"
            ]
          },
          "metadata": {},
          "execution_count": 14
        }
      ]
    },
    {
      "cell_type": "code",
      "metadata": {
        "colab": {
          "base_uri": "https://localhost:8080/"
        },
        "id": "y0iUXvDPrBtP",
        "outputId": "580b1f3d-8cf4-4431-bcc7-dc1d5b45567b"
      },
      "source": [
        "print(train_generator.class_indices)\n",
        "\n",
        "labels = '\\n'.join(sorted(train_generator.class_indices.keys()))\n",
        "\n",
        "with open('/content/drive/MyDrive/Animal Classifier/labels.txt', 'w') as f:\n",
        "    f.write(labels) \n",
        "\n"
      ],
      "execution_count": 15,
      "outputs": [
        {
          "output_type": "stream",
          "name": "stdout",
          "text": [
            "{'elephants': 0, 'zebras': 1}\n"
          ]
        }
      ]
    },
    {
      "cell_type": "code",
      "metadata": {
        "id": "ZoEtlOnxrBw8",
        "colab": {
          "base_uri": "https://localhost:8080/"
        },
        "outputId": "53382d52-c647-4eef-85c9-318c3c6ee42e"
      },
      "source": [
        "IMG_SHAPE = (IMAGE_SIZE, IMAGE_SIZE, 3)\n",
        "\n",
        "# Create the base model from the pre-trained model Inception V3\n",
        "base_model = tf.keras.applications.MobileNetV2(input_shape=IMG_SHAPE,\n",
        "                                              include_top=False, \n",
        "                                              weights='imagenet')"
      ],
      "execution_count": 16,
      "outputs": [
        {
          "output_type": "stream",
          "name": "stdout",
          "text": [
            "Downloading data from https://storage.googleapis.com/tensorflow/keras-applications/mobilenet_v2/mobilenet_v2_weights_tf_dim_ordering_tf_kernels_1.0_224_no_top.h5\n",
            "9412608/9406464 [==============================] - 0s 0us/step\n",
            "9420800/9406464 [==============================] - 0s 0us/step\n"
          ]
        }
      ]
    },
    {
      "cell_type": "code",
      "metadata": {
        "id": "n5fQ13VQrB1y"
      },
      "source": [
        "base_model.trainable = False"
      ],
      "execution_count": 17,
      "outputs": []
    },
    {
      "cell_type": "code",
      "metadata": {
        "id": "MSk2VfIMrCCp"
      },
      "source": [
        "for layer in base_model.layers:\n",
        "    layer.trainable = True"
      ],
      "execution_count": 18,
      "outputs": []
    },
    {
      "cell_type": "code",
      "metadata": {
        "id": "8B7yxkXEQSq2"
      },
      "source": [
        "model = tf.keras.Sequential([\n",
        "        base_model,\n",
        "        tf.keras.layers.Conv2D(32, 3, activation='relu'),\n",
        "        tf.keras.layers.Dropout(0.2),\n",
        "        tf.keras.layers.Conv2D(64, 3, activation='relu'),\n",
        "        tf.keras.layers.Dropout(0.2),\n",
        "        tf.keras.layers.Conv2D(128, 3, activation='relu'),\n",
        "        tf.keras.layers.Dropout(.2),\n",
        "        tf.keras.layers.GlobalAveragePooling2D(),\n",
        "        tf.keras.layers.Dense(2, activation='softmax')\n",
        "])\n",
        "\n"
      ],
      "execution_count": 23,
      "outputs": []
    },
    {
      "cell_type": "code",
      "metadata": {
        "colab": {
          "base_uri": "https://localhost:8080/"
        },
        "id": "sz9lMPiqixkG",
        "outputId": "d1a30d43-3032-43a5-dced-17292553bd2a"
      },
      "source": [
        "model.summary()"
      ],
      "execution_count": 26,
      "outputs": [
        {
          "output_type": "stream",
          "name": "stdout",
          "text": [
            "Model: \"sequential\"\n",
            "_________________________________________________________________\n",
            " Layer (type)                Output Shape              Param #   \n",
            "=================================================================\n",
            " mobilenetv2_1.00_224 (Funct  (None, 7, 7, 1280)       2257984   \n",
            " ional)                                                          \n",
            "                                                                 \n",
            " conv2d_10 (Conv2D)          (None, 5, 5, 32)          368672    \n",
            "                                                                 \n",
            " dropout_9 (Dropout)         (None, 5, 5, 32)          0         \n",
            "                                                                 \n",
            " conv2d_11 (Conv2D)          (None, 3, 3, 64)          18496     \n",
            "                                                                 \n",
            " dropout_10 (Dropout)        (None, 3, 3, 64)          0         \n",
            "                                                                 \n",
            " conv2d_12 (Conv2D)          (None, 1, 1, 128)         73856     \n",
            "                                                                 \n",
            " dropout_11 (Dropout)        (None, 1, 1, 128)         0         \n",
            "                                                                 \n",
            " global_average_pooling2d (G  (None, 128)              0         \n",
            " lobalAveragePooling2D)                                          \n",
            "                                                                 \n",
            " dense (Dense)               (None, 2)                 258       \n",
            "                                                                 \n",
            "=================================================================\n",
            "Total params: 2,719,266\n",
            "Trainable params: 461,282\n",
            "Non-trainable params: 2,257,984\n",
            "_________________________________________________________________\n"
          ]
        }
      ]
    },
    {
      "cell_type": "code",
      "metadata": {
        "id": "7BA_bXo1ROPk"
      },
      "source": [
        "model.compile(optimizer=tf.keras.optimizers.Adam(),\n",
        "              loss='categorical_crossentropy',\n",
        "              metrics=['accuracy'])\n"
      ],
      "execution_count": 27,
      "outputs": []
    },
    {
      "cell_type": "code",
      "metadata": {
        "colab": {
          "base_uri": "https://localhost:8080/"
        },
        "id": "zcseEFM1ROZJ",
        "outputId": "5e9fdc2b-5cb8-4ada-8f43-2802f44b206d"
      },
      "source": [
        "print('Number of trainable variables = {}'.format(len(model.trainable_variables)))"
      ],
      "execution_count": 28,
      "outputs": [
        {
          "output_type": "stream",
          "name": "stdout",
          "text": [
            "Number of trainable variables = 8\n"
          ]
        }
      ]
    },
    {
      "cell_type": "code",
      "metadata": {
        "id": "QZ9uE4loROmZ",
        "colab": {
          "base_uri": "https://localhost:8080/"
        },
        "outputId": "2f4637eb-d8d9-4218-e95a-f7eaedf5718c"
      },
      "source": [
        "epochs = 6\n",
        "\n",
        "\n",
        "history = model.fit(train_generator,\n",
        "                      epochs=epochs,\n",
        "                      validation_data=val_generator)\n"
      ],
      "execution_count": 30,
      "outputs": [
        {
          "output_type": "stream",
          "name": "stdout",
          "text": [
            "Epoch 1/6\n",
            "49/49 [==============================] - 277s 6s/step - loss: 0.0687 - accuracy: 0.9809 - val_loss: 0.4710 - val_accuracy: 0.8416\n",
            "Epoch 2/6\n",
            "49/49 [==============================] - 263s 5s/step - loss: 0.0572 - accuracy: 0.9799 - val_loss: 0.4633 - val_accuracy: 0.8351\n",
            "Epoch 3/6\n",
            "49/49 [==============================] - 254s 5s/step - loss: 0.0511 - accuracy: 0.9848 - val_loss: 0.4147 - val_accuracy: 0.8987\n",
            "Epoch 4/6\n",
            "49/49 [==============================] - 251s 5s/step - loss: 0.0538 - accuracy: 0.9854 - val_loss: 0.4449 - val_accuracy: 0.8740\n",
            "Epoch 5/6\n",
            "49/49 [==============================] - 253s 5s/step - loss: 0.0458 - accuracy: 0.9831 - val_loss: 0.4343 - val_accuracy: 0.8519\n",
            "Epoch 6/6\n",
            "49/49 [==============================] - 258s 5s/step - loss: 0.0470 - accuracy: 0.9854 - val_loss: 0.4310 - val_accuracy: 0.8701\n"
          ]
        }
      ]
    },
    {
      "cell_type": "markdown",
      "metadata": {
        "id": "ip2Mkufo7Ck1"
      },
      "source": [
        "#Plot model performance"
      ]
    },
    {
      "cell_type": "code",
      "metadata": {
        "colab": {
          "base_uri": "https://localhost:8080/",
          "height": 573
        },
        "id": "mOCFzt0NxkyE",
        "outputId": "a4e59358-8011-4d98-c106-5f38f89d23aa"
      },
      "source": [
        "plt.plot(history.history['accuracy'])\n",
        "plt.plot(history.history['val_accuracy'])\n",
        "plt.title('model accuracy')\n",
        "plt.ylabel('accuracy')\n",
        "plt.xlabel('epoch')\n",
        "plt.legend(['train', 'test'], loc='upper left')\n",
        "plt.show()\n",
        "# summarize history for loss\n",
        "plt.plot(history.history['loss'])\n",
        "plt.plot(history.history['val_loss'])\n",
        "plt.title('model loss')\n",
        "plt.ylabel('loss')\n",
        "\n",
        "plt.xlabel('epoch')\n",
        "plt.legend(['train', 'test'], loc='upper left')\n",
        "plt.show()"
      ],
      "execution_count": 43,
      "outputs": [
        {
          "output_type": "display_data",
          "data": {
            "image/png": "[encoded data removed]",
            "text/plain": [
              "<Figure size 432x288 with 1 Axes>"
            ]
          },
          "metadata": {
            "needs_background": "light"
          }
        },
        {
          "output_type": "display_data",
          "data": {
            "image/png": "[encoded data removed]",
            "text/plain": [
              "<Figure size 432x288 with 1 Axes>"
            ]
          },
          "metadata": {
            "needs_background": "light"
          }
        }
      ]
    },
    {
      "cell_type": "code",
      "metadata": {
        "id": "k-1qhB9T1h02"
      },
      "source": [
        "base_model.trainable = True"
      ],
      "execution_count": 44,
      "outputs": []
    },
    {
      "cell_type": "code",
      "metadata": {
        "colab": {
          "base_uri": "https://localhost:8080/"
        },
        "id": "2c-tDwvYxk06",
        "outputId": "b39284dc-f6f9-4aed-9366-a36cf995d257"
      },
      "source": [
        "# Let's take a look to see how many layers are in the base model\n",
        "print(\"Number of layers in the base model: \", len(base_model.layers))\n",
        "\n",
        "# Fine tune from this layer onwards\n",
        "fine_tune_at = 100\n",
        "\n",
        "# Freeze all the layers before the `fine_tune_at` layer\n",
        "for layer in base_model.layers[:fine_tune_at]:\n",
        "    layer.trainable =  False"
      ],
      "execution_count": 45,
      "outputs": [
        {
          "output_type": "stream",
          "name": "stdout",
          "text": [
            "Number of layers in the base model:  154\n"
          ]
        }
      ]
    },
    {
      "cell_type": "code",
      "metadata": {
        "id": "dBMcf3Pfxk6L"
      },
      "source": [
        "model.compile(loss='categorical_crossentropy',\n",
        "              optimizer = tf.keras.optimizers.Adam(1e-7),\n",
        "              metrics=['accuracy'])"
      ],
      "execution_count": 46,
      "outputs": []
    },
    {
      "cell_type": "code",
      "metadata": {
        "colab": {
          "base_uri": "https://localhost:8080/"
        },
        "id": "UNI0kCYkxk9I",
        "outputId": "81556db1-f1c4-431b-fcc0-dc4aab605aba"
      },
      "source": [
        "model.summary()"
      ],
      "execution_count": 47,
      "outputs": [
        {
          "output_type": "stream",
          "name": "stdout",
          "text": [
            "Model: \"sequential\"\n",
            "_________________________________________________________________\n",
            " Layer (type)                Output Shape              Param #   \n",
            "=================================================================\n",
            " mobilenetv2_1.00_224 (Funct  (None, 7, 7, 1280)       2257984   \n",
            " ional)                                                          \n",
            "                                                                 \n",
            " conv2d_10 (Conv2D)          (None, 5, 5, 32)          368672    \n",
            "                                                                 \n",
            " dropout_9 (Dropout)         (None, 5, 5, 32)          0         \n",
            "                                                                 \n",
            " conv2d_11 (Conv2D)          (None, 3, 3, 64)          18496     \n",
            "                                                                 \n",
            " dropout_10 (Dropout)        (None, 3, 3, 64)          0         \n",
            "                                                                 \n",
            " conv2d_12 (Conv2D)          (None, 1, 1, 128)         73856     \n",
            "                                                                 \n",
            " dropout_11 (Dropout)        (None, 1, 1, 128)         0         \n",
            "                                                                 \n",
            " global_average_pooling2d (G  (None, 128)              0         \n",
            " lobalAveragePooling2D)                                          \n",
            "                                                                 \n",
            " dense (Dense)               (None, 2)                 258       \n",
            "                                                                 \n",
            "=================================================================\n",
            "Total params: 2,719,266\n",
            "Trainable params: 2,322,722\n",
            "Non-trainable params: 396,544\n",
            "_________________________________________________________________\n"
          ]
        }
      ]
    },
    {
      "cell_type": "code",
      "metadata": {
        "colab": {
          "base_uri": "https://localhost:8080/"
        },
        "id": "UvQTNn0XxlCO",
        "outputId": "a5f8cf47-310a-4182-aee4-c25b05a64ef8"
      },
      "source": [
        "print('Number of trainable variables = {}'.format(len(model.trainable_variables)))"
      ],
      "execution_count": 48,
      "outputs": [
        {
          "output_type": "stream",
          "name": "stdout",
          "text": [
            "Number of trainable variables = 62\n"
          ]
        }
      ]
    },
    {
      "cell_type": "code",
      "metadata": {
        "id": "Cgm8WlpYLb_H"
      },
      "source": [
        "\n",
        "learning_rate_reduction = ReduceLROnPlateau(monitor='val_accuracy', \n",
        "                                            patience=5, \n",
        "                                            verbose=1, \n",
        "                                            factor=0.5, \n",
        "                                            min_lr=1e-7)\n",
        "\n",
        "batch_size = 64"
      ],
      "execution_count": 49,
      "outputs": []
    },
    {
      "cell_type": "code",
      "metadata": {
        "colab": {
          "base_uri": "https://localhost:8080/"
        },
        "id": "50pxJ9Ipjysk",
        "outputId": "c85bfbc9-022a-4385-ceb8-1d43ff24fb71"
      },
      "source": [
        "epochs = 7\n",
        "\n",
        "\n",
        "history = model.fit(train_generator, \n",
        "                        epochs=epochs,\n",
        "                        validation_data=val_generator,\n",
        "                        callbacks=[learning_rate_reduction])\n"
      ],
      "execution_count": 50,
      "outputs": [
        {
          "output_type": "stream",
          "name": "stdout",
          "text": [
            "Epoch 1/7\n",
            "49/49 [==============================] - 261s 5s/step - loss: 0.0947 - accuracy: 0.9698 - val_loss: 0.4000 - val_accuracy: 0.8766 - lr: 1.0000e-07\n",
            "Epoch 2/7\n",
            "49/49 [==============================] - 249s 5s/step - loss: 0.0849 - accuracy: 0.9760 - val_loss: 0.4476 - val_accuracy: 0.8649 - lr: 1.0000e-07\n",
            "Epoch 3/7\n",
            "49/49 [==============================] - 253s 5s/step - loss: 0.0922 - accuracy: 0.9724 - val_loss: 0.4442 - val_accuracy: 0.8883 - lr: 1.0000e-07\n",
            "Epoch 4/7\n",
            "49/49 [==============================] - 253s 5s/step - loss: 0.0857 - accuracy: 0.9754 - val_loss: 0.4826 - val_accuracy: 0.8753 - lr: 1.0000e-07\n",
            "Epoch 5/7\n",
            "49/49 [==============================] - 252s 5s/step - loss: 0.0620 - accuracy: 0.9825 - val_loss: 0.3989 - val_accuracy: 0.8909 - lr: 1.0000e-07\n",
            "Epoch 6/7\n",
            "49/49 [==============================] - 249s 5s/step - loss: 0.0743 - accuracy: 0.9767 - val_loss: 0.4281 - val_accuracy: 0.8831 - lr: 1.0000e-07\n",
            "Epoch 7/7\n",
            "49/49 [==============================] - 246s 5s/step - loss: 0.0808 - accuracy: 0.9770 - val_loss: 0.5175 - val_accuracy: 0.8818 - lr: 1.0000e-07\n"
          ]
        }
      ]
    },
    {
      "cell_type": "code",
      "metadata": {
        "id": "DdjVHe2axlH1"
      },
      "source": [
        "plt.plot(history.history['accuracy'])\n",
        "plt.plot(history.history['val_accuracy'])\n",
        "plt.title('model accuracy')\n",
        "plt.ylabel('accuracy')\n",
        "plt.xlabel('epoch')\n",
        "plt.legend(['train', 'test'], loc='upper left')\n",
        "plt.show()\n",
        "# summarize history for loss\n",
        "plt.plot(history.history['loss'])\n",
        "plt.plot(history.history['val_loss'])\n",
        "plt.title('model loss')\n",
        "plt.ylabel('loss')\n",
        "\n",
        "plt.xlabel('epoch')\n",
        "plt.legend(['train', 'test'], loc='upper left')\n",
        "plt.show()"
      ],
      "execution_count": null,
      "outputs": []
    },
    {
      "cell_type": "code",
      "metadata": {
        "id": "Xfd8vD1mq1A0"
      },
      "source": [
        "import keras\n",
        "from tensorflow.keras.optimizers import RMSprop\n",
        "from keras.utils.np_utils import to_categorical # used for converting labels to one-hot-encoding\n",
        "from keras.models import Sequential, Model\n",
        "from keras.layers import Dense, Dropout, Flatten, Conv2D, MaxPool2D\n",
        "from keras import backend as K\n",
        "from keras.layers.normalization import BatchNormalization\n",
        "from keras.utils.np_utils import to_categorical # convert to one-hot-encoding\n",
        "from keras.optimizers import Adam, RMSprop\n",
        "from keras.preprocessing.image import ImageDataGenerator\n",
        "from keras.callbacks import ReduceLROnPlateau\n",
        "from keras.wrappers.scikit_learn import KerasClassifier\n",
        "from keras.applications.resnet50 import ResNet50\n",
        "from keras import backend as K "
      ],
      "execution_count": null,
      "outputs": []
    },
    {
      "cell_type": "code",
      "metadata": {
        "id": "m6YKVE4zLYD7"
      },
      "source": [
        "train = '/content/drive/MyDrive/sampleAnimalDataset/sample_train'\n",
        "test = '/content/drive/MyDrive/sampleAnimalDataset/sample_train'\n",
        "train_elephants = '/content/drive/MyDrive/sampleAnimalDataset/sample_train/sample_train_elephants'\n",
        "train_zebras = '/content/drive/MyDrive/sampleAnimalDataset/sample_train/sample_train_zebras'\n",
        "\n",
        "test_elephants = '/content/drive/MyDrive/sampleAnimalDataset/sample_test/sample_test_elephants'\n",
        "test_zebras = '/content/drive/MyDrive/sampleAnimalDataset/sample_test/sample_test_zebras'\n",
        "\n",
        "input_shape = (224,224,3)"
      ],
      "execution_count": null,
      "outputs": []
    },
    {
      "cell_type": "code",
      "metadata": {
        "id": "EBtmeIGkiviw",
        "colab": {
          "base_uri": "https://localhost:8080/",
          "height": 231
        },
        "outputId": "b47d6fcb-aab5-402b-dea0-269a4db8ab3f"
      },
      "source": [
        "\n",
        "learning_rate_reduction = ReduceLROnPlateau(monitor='val_accuracy', \n",
        "                                            patience=5, \n",
        "                                            verbose=1, \n",
        "                                            factor=0.5, \n",
        "                                            min_lr=1e-7)\n",
        "\n",
        "batch_size = 64"
      ],
      "execution_count": null,
      "outputs": [
        {
          "output_type": "error",
          "ename": "NameError",
          "evalue": "ignored",
          "traceback": [
            "\u001b[0;31m---------------------------------------------------------------------------\u001b[0m",
            "\u001b[0;31mNameError\u001b[0m                                 Traceback (most recent call last)",
            "\u001b[0;32m<ipython-input-29-5fe548f5d224>\u001b[0m in \u001b[0;36m<module>\u001b[0;34m()\u001b[0m\n\u001b[1;32m      1\u001b[0m \u001b[0;34m\u001b[0m\u001b[0m\n\u001b[0;32m----> 2\u001b[0;31m learning_rate_reduction = ReduceLROnPlateau(monitor='val_accuracy', \n\u001b[0m\u001b[1;32m      3\u001b[0m                                             \u001b[0mpatience\u001b[0m\u001b[0;34m=\u001b[0m\u001b[0;36m5\u001b[0m\u001b[0;34m,\u001b[0m\u001b[0;34m\u001b[0m\u001b[0;34m\u001b[0m\u001b[0m\n\u001b[1;32m      4\u001b[0m                                             \u001b[0mverbose\u001b[0m\u001b[0;34m=\u001b[0m\u001b[0;36m1\u001b[0m\u001b[0;34m,\u001b[0m\u001b[0;34m\u001b[0m\u001b[0;34m\u001b[0m\u001b[0m\n\u001b[1;32m      5\u001b[0m                                             \u001b[0mfactor\u001b[0m\u001b[0;34m=\u001b[0m\u001b[0;36m0.5\u001b[0m\u001b[0;34m,\u001b[0m\u001b[0;34m\u001b[0m\u001b[0;34m\u001b[0m\u001b[0m\n",
            "\u001b[0;31mNameError\u001b[0m: name 'ReduceLROnPlateau' is not defined"
          ]
        }
      ]
    },
    {
      "cell_type": "code",
      "metadata": {
        "id": "U1lzy1MSjsDv"
      },
      "source": [
        ""
      ],
      "execution_count": null,
      "outputs": []
    }
  ]
}